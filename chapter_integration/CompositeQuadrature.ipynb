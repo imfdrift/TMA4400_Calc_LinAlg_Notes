{
 "cells": [
  {
   "cell_type": "markdown",
   "metadata": {
    "editable": true,
    "slideshow": {
     "slide_type": "slide"
    },
    "tags": []
   },
   "source": [
    "## Numerical integration: Composite quadrature rules"
   ]
  },
  {
   "cell_type": "markdown",
   "metadata": {
    "editable": true,
    "slideshow": {
     "slide_type": "slide"
    },
    "tags": []
   },
   "source": [
    "As usual, we import the necessary modules before we get started."
   ]
  },
  {
   "cell_type": "code",
   "execution_count": null,
   "metadata": {
    "editable": true,
    "slideshow": {
     "slide_type": "slide"
    },
    "tags": []
   },
   "outputs": [],
   "source": [
    "%matplotlib inline\n",
    "\n",
    "import numpy as np\n",
    "from numpy import pi\n",
    "from math import sqrt\n",
    "from numpy.linalg import solve, norm    # Solve linear systems and compute norms\n",
    "\n",
    "import matplotlib.pyplot as plt\n",
    "import matplotlib.cm as cm  \n",
    "\n",
    "#import ipywidgets as widgets\n",
    "#from ipywidgets import interact, fixed\n",
    "\n",
    "newparams = {'figure.figsize': (16.0, 8.0), \n",
    "             'axes.grid': True,\n",
    "             'lines.markersize': 8, \n",
    "             'lines.linewidth': 2,\n",
    "             'font.size': 14}\n",
    "plt.rcParams.update(newparams)\n",
    "#plt.xkcd()"
   ]
  },
  {
   "cell_type": "markdown",
   "metadata": {
    "editable": true,
    "slideshow": {
     "slide_type": "slide"
    },
    "tags": []
   },
   "source": [
    "### General construction of quadrature rules\n",
    "In the following, you will learn the steps on how to construct realistic\n",
    "algorithms for numerical integration, similar to those used in software like\n",
    "Matlab of SciPy.  The steps are:"
   ]
  },
  {
   "cell_type": "markdown",
   "metadata": {
    "editable": true,
    "slideshow": {
     "slide_type": "slide"
    },
    "tags": []
   },
   "source": [
    "**Construction.**\n",
    "\n",
    "1. Choose $n+1$ distinct nodes on a standard interval $I$, often chosen to be $I=[-1,1]$."
   ]
  },
  {
   "cell_type": "markdown",
   "metadata": {
    "editable": true,
    "slideshow": {
     "slide_type": "fragment"
    },
    "tags": []
   },
   "source": [
    "2. Let $p_n(x)$ be the polynomial interpolating some general function $f$ in the nodes, and let the  $Q[f](-1,1)=I[p_n](-1,1)$."
   ]
  },
  {
   "cell_type": "markdown",
   "metadata": {
    "editable": true,
    "slideshow": {
     "slide_type": "fragment"
    },
    "tags": []
   },
   "source": [
    "3. Transfer the formula $Q$ from $[-1,1]$ to some interval $[a,b]$."
   ]
  },
  {
   "cell_type": "markdown",
   "metadata": {
    "editable": true,
    "slideshow": {
     "slide_type": "fragment"
    },
    "tags": []
   },
   "source": [
    "4. Design a composite formula, by dividing the interval $[a,b]$ into\n",
    "  subintervals and applying the quadrature formula on each subinterval."
   ]
  },
  {
   "cell_type": "markdown",
   "metadata": {
    "editable": true,
    "slideshow": {
     "slide_type": "fragment"
    },
    "tags": []
   },
   "source": [
    "5. Find an expression for the error $E[f](a,b) = I[f](a,b)-Q[f](a,b)$."
   ]
  },
  {
   "cell_type": "markdown",
   "metadata": {
    "editable": true,
    "slideshow": {
     "slide_type": "fragment"
    },
    "tags": []
   },
   "source": [
    "6. Find an expression for an estimate of the error, and use this to create an adaptive algorithm."
   ]
  },
  {
   "cell_type": "markdown",
   "metadata": {
    "editable": true,
    "slideshow": {
     "slide_type": "slide"
    },
    "tags": []
   },
   "source": [
    "### Constructing quadrature rules on a single interval\n",
    "\n",
    "We have already seen in the previous Lecture how quadrature rules\n",
    "on a given interval $[a,b]$ can be constructed using polynomial\n",
    "interpolation."
   ]
  },
  {
   "cell_type": "markdown",
   "metadata": {
    "editable": true,
    "slideshow": {
     "slide_type": "fragment"
    },
    "tags": []
   },
   "source": [
    "For $n+1$ quadrature points $\\{x_i\\}_{i=0}^n \\subset [a,b]$,\n",
    "we compute weights by\n",
    "\n",
    "$$\n",
    "w_i =\\int_a^b \\ell_i(x) {\\,\\mathrm{d}x} \\quad \\text{for } i = 0, \\ldots, n.\n",
    "$$\n",
    "\n",
    "where $\\ell_i(x)$ are the cardinal functions associated with\n",
    "$\\{x_i\\}_{i=0}^n$ satisfying $\\ell_i(x_j) = \\delta_{ij}$ for\n",
    "$i,j = 0,1,\\ldots, n$.\n",
    "The resulting quadrature rule has (at least) degree of exactness\n",
    "equal to $n$."
   ]
  },
  {
   "cell_type": "markdown",
   "metadata": {
    "editable": true,
    "slideshow": {
     "slide_type": "slide"
    },
    "tags": []
   },
   "source": [
    "But how to you proceed if you know want to\n",
    "compute an integral on a different interval, say\n",
    "$[c,d]$?\n",
    "Do we have to reconstruct all the cardinal functions and recompute\n",
    "the weights?"
   ]
  },
  {
   "cell_type": "markdown",
   "metadata": {
    "editable": true,
    "slideshow": {
     "slide_type": "fragment"
    },
    "tags": []
   },
   "source": [
    "The answer is NO! One can easily transfer quadrature points and weights\n",
    "from one interval to another.\n",
    "One typically choose the simple **reference interval** $\\widehat{I} = [-1, 1]$.\n",
    "Then you determine some $n+1$ quadrature points\n",
    "$\\{\\widehat{x}_i\\}_{i=0}^n \\subset [-1,1]$ and quadrature weights\n",
    "$\\{\\widehat{w}_i\\}_{i=0}^n$ to define a quadrature rule $Q(\\widehat{I})$"
   ]
  },
  {
   "cell_type": "markdown",
   "metadata": {
    "editable": true,
    "slideshow": {
     "slide_type": "fragment"
    },
    "tags": []
   },
   "source": [
    "The quadrature points can then be transferred to an arbitrary interval\n",
    "$[a,b]$ to define a quadrature rule $Q(a,b)$ using the transformation\n",
    "\n",
    "$$\n",
    "x = \\frac{b-a}{2}\\widehat{x} + \\frac{b+a}{2}, \\quad  \\text{so} \\quad {\\,\\mathrm{d}x} = \\frac{b-a}{2}\\,\\mathrm{d}\\widehat{x},\n",
    "$$"
   ]
  },
  {
   "cell_type": "markdown",
   "metadata": {
    "editable": true,
    "slideshow": {
     "slide_type": "fragment"
    },
    "tags": []
   },
   "source": [
    "and thus we define\n",
    "$\\{x_i\\}_{i=0}^n$\n",
    "and\n",
    "$\\{w_i\\}_{i=0}^n$ by\n",
    "\n",
    "$$\n",
    "x_i = \\frac{b-a}{2}\\widehat{x}_i + \\frac{b+a}{2}, \\quad  w_i = \\frac{b-a}{2}\\widehat{w}_i\n",
    "\\quad \\text{for } i = 0, \\ldots n.\n",
    "$$"
   ]
  },
  {
   "cell_type": "markdown",
   "metadata": {
    "slideshow": {
     "slide_type": "slide"
    }
   },
   "source": [
    "***Example: Simpson's rule***\n",
    "\n",
    "* Choose standard interval $[-1,1]$. For Simpson's rule, choose the\n",
    "  nodes $x_0=-1$, $x_1=0$ and $x_2=1$.  The corresponding cardinal\n",
    "  functions are\n",
    "\n",
    "  * $\\displaystyle \\ell_0 = \\frac{1}{2}(x^2-x), \\qquad \\ell_1(x) = 1-x^2, \\qquad \\ell_2(x) = \\frac{1}{2}(x^2+x). $"
   ]
  },
  {
   "cell_type": "markdown",
   "metadata": {
    "slideshow": {
     "slide_type": "fragment"
    }
   },
   "source": [
    "  which gives the weights\n",
    "\n",
    "  * $\\displaystyle\n",
    "    w_0 = \\int_{-1}^1 \\ell_0(x)dx = \\frac{1}{3}, \\qquad\n",
    "    w_1 = \\int_{-1}^1 \\ell_1(x)dx = \\frac{4}{3}, \\qquad\n",
    "    w_2 = \\int_{-1}^1 \\ell_2(x)dx = \\frac{1}{3}$\n",
    "\n",
    "  such that\n",
    "\n",
    "  * $ \\displaystyle \\int_{-1}^1 f(t) dx \\approx \\int_{-1}^1 p_2(x) dx = \\sum_{i=0}^2 w_i f(x_i) = \\frac{1}{3} \\left[\\; f(-1) + 4 f(0) + f(1) \\; \\right].$"
   ]
  },
  {
   "cell_type": "markdown",
   "metadata": {
    "editable": true,
    "slideshow": {
     "slide_type": "fragment"
    },
    "tags": []
   },
   "source": [
    "* After transferring the nodes and weights,\n",
    "  Simpson's rule over the interval $[a,b]$ becomes\n",
    "\n",
    "  * $\\displaystyle S(a,b) = \\frac{b-a}{6}\\left[\\; f(a)+4f(c)+f(b)\\; \\right], \\qquad c=\\frac{b+a}{2}$."
   ]
  },
  {
   "cell_type": "markdown",
   "metadata": {
    "editable": true,
    "slideshow": {
     "slide_type": "slide"
    },
    "tags": []
   },
   "source": [
    "### Composite quadrature rules\n",
    "To generate more accurate quadrature rule $Q(a,b)$\n",
    "we have in principle two possibilities:\n",
    "* Increase the order of the interpolation polynomial used to construct the quadrature rule."
   ]
  },
  {
   "cell_type": "markdown",
   "metadata": {
    "editable": true,
    "slideshow": {
     "slide_type": "fragment"
    },
    "tags": []
   },
   "source": [
    "* Subdivide the interval $[a,b]$ into smaller subintervals and apply a quadrature rule on each of\n",
    "  the subintervals, leading to **Composite Quadrature Rules** which we will consider next."
   ]
  },
  {
   "cell_type": "code",
   "execution_count": null,
   "metadata": {
    "editable": true,
    "slideshow": {
     "slide_type": "slide"
    },
    "tags": []
   },
   "outputs": [],
   "source": [
    "colors = plt.get_cmap(\"Pastel1\").colors\n",
    "\n",
    "def plot_cqr_examples(m):\n",
    "    f = lambda x : np.exp(x)\n",
    "    fig, axs = plt.subplots(1,2)\n",
    "    fig.set_figheight(4)\n",
    "    fig.set_figwidth(fig.get_size_inches()[0]*1)\n",
    "    #axs[0].add_axes([0.1, 0.2, 0.8, 0.7])\n",
    "    a, b = -0.5,0.5\n",
    "    l, r = -1.0, 1.0\n",
    "    x_a = np.linspace(a, b, 100)\n",
    "    \n",
    "\n",
    "    for ax in axs:\n",
    "        ax.set_xlim(l, r)\n",
    "        x = np.linspace(l, r, 100)\n",
    "        ax.plot(x, f(x), \"k--\", label=\"$f(x)$\")\n",
    "        #ax.fill_between(x_a, f(x_a), alpha=0.1, color='k')\n",
    "        ax.xaxis.set_ticks_position('bottom')\n",
    "        ax.set_xticks([a,b])\n",
    "        ax.set_xticklabels([\"$a$\", \"$b$\"])\n",
    "        ax.set_yticks([])\n",
    "        ax.legend(loc=\"upper center\")\n",
    "    \n",
    "    h = (b-a)/m\n",
    "    # Compute center points for each interval\n",
    "    xcs = np.linspace(a+h/2, b-h/2, m)\n",
    "    xis = np.linspace(a,b,m+1)\n",
    "    \n",
    "\n",
    "    # Midpoint rule\n",
    "    axs[0].bar(xis[:-1], f(xcs), h, align='edge', color=colors[2], edgecolor=\"black\")\n",
    "    axs[0].plot(xcs,f(xcs), 'ko', markersize=f\"{6*(m+1)/m}\")\n",
    "    axs[0].set_title(\"Composite midpoint rule\")\n",
    "\n",
    "\n",
    "    # Trapezoidal rule\n",
    "    axs[1].set_title(\"Composite trapezoidal rule\")\n",
    "    axs[1].fill_between(xis, f(xis), alpha=0.8, color=colors[4])\n",
    "    axs[1].plot(xis,f(xis), 'ko', markersize=f\"{6*(m+1)/m}\")\n",
    "    plt.vlines(xis, 0, f(xis), colors=\"k\")\n",
    "    plt.show()"
   ]
  },
  {
   "cell_type": "code",
   "execution_count": null,
   "metadata": {
    "editable": true,
    "slideshow": {
     "slide_type": "slide"
    },
    "tags": []
   },
   "outputs": [],
   "source": [
    "import ipywidgets as widgets\n",
    "from ipywidgets import interact\n",
    "\n",
    "slider = widgets.IntSlider(min = 1,\n",
    "                           max = 20,\n",
    "                           step = 1,\n",
    "                           description=\"Number of subintervals m\",\n",
    "                           value = 1)\n",
    "interact(plot_cqr_examples, m=slider)"
   ]
  },
  {
   "cell_type": "code",
   "execution_count": null,
   "metadata": {
    "editable": true,
    "slideshow": {
     "slide_type": "slide"
    },
    "tags": []
   },
   "outputs": [],
   "source": [
    "m = 4\n",
    "plot_cqr_examples(m)"
   ]
  },
  {
   "cell_type": "markdown",
   "metadata": {
    "editable": true,
    "slideshow": {
     "slide_type": "slide"
    },
    "tags": []
   },
   "source": [
    "Select $m \\geqslant 1$ and divide $[a,b]$ into $m$ equally spaced\n",
    "subintervals $[x_{i-1}, x_{i}]$ defined by $x_i = a + i h$ with $h =\n",
    "(b-a)/m$ for $i=1,\\ldots, m$.\n",
    "Then for a given quadrature rule $\\mathrm{Q}[\\cdot](x_{i-1},x_i)$ the corresponding\n",
    "composite quadrature rule $\\mathrm{CQ}[\\cdot]({[x_{i-1}, x_{i}]}_{i=1}^{m})$ is given by\n",
    "\n",
    "$$\n",
    "\\int_a^b f {\\,\\mathrm{d}x} \\approx \\mathrm{CQ}[f]({[x_{i-1}, x_{i}]}_{i=1}^{m}) = \\sum_{i=1}^m \\mathrm{Q}[f](x_{i-1},x_i).\n",
    "$$ (eqquad:composite_qr}"
   ]
  },
  {
   "cell_type": "markdown",
   "metadata": {
    "editable": true,
    "slideshow": {
     "slide_type": "slide"
    },
    "tags": []
   },
   "source": [
    "## Composite trapezoidal rule\n",
    "Using the trapezoidal rule\n",
    "\n",
    "$$\n",
    "\\mathrm{T}[f](x_{i-1},x_{i})\n",
    "=\n",
    "\\tfrac{h}{2} f(x_{i-1}) + \\tfrac{h}{2} f(x_{i})\n",
    "$$\n",
    "the resulting composite trapezoidal rule is given by\n",
    "\n",
    "\\begin{align*}\n",
    "\\int_a^b f {\\,\\mathrm{d}x} \\approx \\mathrm{CT}[f]({[x_{i-1}, x_{i}]}_{i=1}^{m})\n",
    "= h \\left[ \\tfrac{1}{2} f(x_0) + f(x_1) + \\ldots + f(x_{m-1}) + \\tfrac{1}{2} f(x_m) \\right]\n",
    "\\end{align*}"
   ]
  },
  {
   "cell_type": "markdown",
   "metadata": {
    "editable": true,
    "slideshow": {
     "slide_type": "slide"
    },
    "tags": []
   },
   "source": [
    ":::{exercise-start} Testing the accuracy of the composite trapezoidal rule\n",
    ":label: exe-test-accur-ctr\n",
    ":::\n",
    "\n",
    "Have a look at the `CT` function which implements the composite trapezoidal rule:"
   ]
  },
  {
   "cell_type": "code",
   "execution_count": null,
   "metadata": {
    "editable": true,
    "slideshow": {
     "slide_type": "slide"
    },
    "tags": []
   },
   "outputs": [],
   "source": [
    "def CT(f, a, b, m):\n",
    "    \"\"\" Computes an approximation of the integral f\n",
    "    using the composite trapezoidal rule.\n",
    "    Input:\n",
    "        f:  integrand\n",
    "        a:  left interval endpoint\n",
    "        b:  right interval endpoint\n",
    "        m:  number of subintervals\n",
    "    \"\"\"\n",
    "    x = np.linspace(a,b,m+1)\n",
    "    h = float(b - a)/m\n",
    "    fx = f(x[1:-1])\n",
    "    ct = h*(np.sum(fx) + 0.5*(f(x[0]) + f(x[-1])))\n",
    "    return ct"
   ]
  },
  {
   "cell_type": "markdown",
   "metadata": {
    "editable": true,
    "slideshow": {
     "slide_type": "slide"
    },
    "tags": []
   },
   "source": [
    "Use this function to compute an approximate value of integral\n",
    "\n",
    "$$\n",
    "I(0,1) = \\int_0^1 \\cos\\left(\\frac{\\pi}{2}x\\right) = \\frac{2}{\\pi} = 0.636619\\dotsc.\n",
    "$$\n",
    "\n",
    "for $m = 4, 8, 16, 32, 64$ corresponding to\n",
    "$ h = 2^{-2}, 2^{-3}, 2^{-4}, 2^{-5}, 2^{-6}$.\n",
    "Tabulate the corresponding quadrature errors $I(0,1) - Q(0,1)$.\n",
    "What do you observe?\n",
    "\n",
    ":::{exercise-end}\n",
    ":::"
   ]
  },
  {
   "cell_type": "code",
   "execution_count": null,
   "metadata": {
    "editable": true,
    "slideshow": {
     "slide_type": ""
    },
    "tags": []
   },
   "outputs": [],
   "source": [
    "# Insert your code here\n",
    "\n",
    "def f(x):\n",
    "    return np.cos(np.pi/2*x)\n",
    "\n",
    "a, b = 0, 1\n",
    "m = 2\n",
    "int_f = 2/np.pi\n",
    "\n",
    "qr_f = CT(f, a, b, m)\n",
    "print(f\"Exact value {int_f}\")\n",
    "print(f\"Numerical integration for m = {m} gives {qr_f}\")\n",
    "print(f\"Difference  = {int_f - qr_f}\")\n",
    "\n",
    "for m in [4, 8, 16, 32, 64]:\n",
    "    qr_f = CT(f, a, b, m)\n",
    "    print(f\"Exact value {int_f}\")\n",
    "    print(f\"Numerical integration for m = {m} gives {qr_f}\")\n",
    "    print(f\"Difference  = {int_f - qr_f}\")"
   ]
  },
  {
   "cell_type": "markdown",
   "metadata": {
    "editable": true,
    "slideshow": {
     "slide_type": ""
    },
    "tags": []
   },
   "source": [
    ":::{solution} exe-test-accur-ctr\n",
    ":class: dropdown\n",
    "\n",
    ":::{code-block} python\n",
    "# Define function\n",
    "def f(x):\n",
    "    return np.cos(pi*x/2)\n",
    "\n",
    "# Exact integral\n",
    "int_f = 2/pi \n",
    "\n",
    "# Interval\n",
    "a, b = 0, 1\n",
    "\n",
    "# Compute integral numerically\n",
    "for m in [4, 8, 16, 32, 64]:\n",
    "    cqr_f = CT(f, a, b, m)\n",
    "    print(f\"I[f] = {int_f}\")\n",
    "    print(f\"Q[f, {a}, {b}, {m}] = {qr_f}\")\n",
    "    print(f\"I[f] - Q[f] = {int_f - qr_f:.3e}\")\n",
    "\n",
    ":::\n",
    "\n",
    ":::"
   ]
  },
  {
   "cell_type": "markdown",
   "metadata": {
    "editable": true,
    "slideshow": {
     "slide_type": "slide"
    },
    "tags": []
   },
   "source": [
    ":::{prf:remark}\n",
    "\n",
    "We observe that for each *doubling* of the number of subintervals\n",
    "we decrease the error by a *fourth*.\n",
    "That means that if we look at\n",
    "the quadrature error $I[f]-\\mathrm{CT}[f]$\n",
    "as a function of the number of subintervals $m$\n",
    "(or equivalently as a function of $h$),\n",
    "then\n",
    "$|I[f]-\\mathrm{CT}[f]| \\approx \\tfrac{C}{m^2} = C h^2$.\n",
    "\n",
    ":::"
   ]
  },
  {
   "cell_type": "markdown",
   "metadata": {
    "slideshow": {
     "slide_type": "slide"
    }
   },
   "source": [
    "### Error estimate for the composite trapezoidal rule\n",
    "We will now theoretically explain the experimentally observed\n",
    "convergence rate in the previous {ref}`exe-test-accur-ctr`."
   ]
  },
  {
   "cell_type": "markdown",
   "metadata": {
    "editable": true,
    "slideshow": {
     "slide_type": "fragment"
    },
    "tags": []
   },
   "source": [
    "First we have to recall the error estimate for\n",
    "for the trapezoidal rule on a **single interval** $[a,b]$.\n",
    "If $f\\in C^2(a,b)$, then there is a $\\xi \\in (a,b)$ such that\n",
    "\n",
    "$$\n",
    "I[f]-\\mathrm{T}[f]=\\frac{(b-a)^3}{12}f''(\\xi).\n",
    "$$"
   ]
  },
  {
   "cell_type": "markdown",
   "metadata": {
    "editable": true,
    "slideshow": {
     "slide_type": "slide"
    },
    "tags": []
   },
   "source": [
    ":::{prf:theorem} Quadrature error estimate for composite trapezoidal rule\n",
    ":label: thm-ctr-error-est\n",
    "\n",
    "Let $f\\in C^2(a,b)$, then\n",
    "the quadrature error $I[f]-\\mathrm{CT}[f]$\n",
    "for the composite trapezoidal rule can be estimated by\n",
    "\n",
    "\\begin{equation}\n",
    "|I[f]-\\mathrm{CT}[f]|\n",
    "\\leqslant\n",
    "\\dfrac{M_2}{12} \\dfrac{(b-a)^3}{m^2}\n",
    "=\n",
    "\\dfrac{M_2}{12}\n",
    "h^2(b-a)\n",
    "\\end{equation}\n",
    "\n",
    "where  $M_2 = \\max_{\\xi\\in[a,b]} |f''(\\xi)|$.\n",
    ":::"
   ]
  },
  {
   "cell_type": "markdown",
   "metadata": {
    "editable": true,
    "slideshow": {
     "slide_type": "slide"
    },
    "tags": []
   },
   "source": [
    ":::{prf:proof}\n",
    "\n",
    "\n",
    "\\begin{align*}\n",
    "|I[f]-\\mathrm{CT}[f]|\n",
    "&=\n",
    "\\biggl \\lvert\n",
    "\\sum_{i=1}^m\n",
    "\\Bigl [\n",
    "\\int_{x_{i-1}}^{x_i} f(x) {\\,\\mathrm{d}x}\n",
    "- \\bigl(\n",
    "\\tfrac{h}{2}f(x_{i-1})\n",
    "+\n",
    "\\tfrac{h}{2}f(x_{i})\n",
    "\\bigr)\n",
    "\\Bigr]\n",
    "\\biggr \\rvert\n",
    "\\\\ \n",
    "&\\leqslant\n",
    "\\sum_{i=1}^m\n",
    "\\frac{h^3}{12}|f''(\\xi_i)|\n",
    "\\leqslant \n",
    "M_2 \\sum_{i=1}^m\n",
    "\\frac{(h)^3}{12}\n",
    "\\leqslant \n",
    "M_2 \\sum_{i=1}^m\n",
    "\\frac{(h)^3}{12}\n",
    "\\\\ \n",
    "&=\n",
    "M_2 \n",
    "\\frac{h^3}{12}\n",
    "\\underbrace{m}_{\\tfrac{(b-a)}{h}}\n",
    "=\n",
    "\\dfrac{M_2}{12}\n",
    "h^2(b-a)\n",
    "=\n",
    "\\frac{M_2}{12}\n",
    "\\frac{(b-a)^3}{m^2}\n",
    "\\end{align*}\n",
    "\n",
    ":::"
   ]
  },
  {
   "cell_type": "markdown",
   "metadata": {
    "editable": true,
    "slideshow": {
     "slide_type": "slide"
    },
    "tags": []
   },
   "source": [
    "### Interlude: Convergence of $h$-dependent approximations\n",
    "\n",
    "Let $X$ be the exact solution, and $X(h)$ some numerical solution depending on a\n",
    "parameter $h$, and let $e(h)$ be the norm of the error, so $e(h)=\\|X-X(h)\\|$. The numerical approximation $X(h)$ converges to $X$ if $e(h) \\rightarrow 0$ as $h\\rightarrow 0$. \n",
    "The order of the approximation is $p$ if there exists a positive constant $M$ such that\n",
    "$$\n",
    "e(h) \\leq M h^p\n",
    "$$"
   ]
  },
  {
   "cell_type": "markdown",
   "metadata": {
    "editable": true,
    "slideshow": {
     "slide_type": "slide"
    },
    "tags": []
   },
   "source": [
    "This is often expresed using the Big $\\mathcal{O}$-notation, \n",
    "$$\n",
    "e(h) = \\mathcal{O}(h^p)\n",
    "\\qquad\\text{ as } h \\to 0.\n",
    "$$\n",
    "This is often used when we are not directly interested in any expression for the constant $M$, we only need to know it exists.\n",
    "\n",
    "Again, we see that a higher approximation order $p$ leads for small values of $h$ to a better approximation of the solution. Thus we are generally interested in approximations of higher order."
   ]
  },
  {
   "cell_type": "markdown",
   "metadata": {
    "editable": true,
    "slideshow": {
     "slide_type": "slide"
    },
    "tags": []
   },
   "source": [
    "**Numerical verification**\n",
    "\n",
    "The following is based on the assumption that  $e(h)\\approx C h^p$ for some\n",
    "unknown constant $C$. This assumption is often reasonable for sufficiently\n",
    "small $h$. \n",
    "\n",
    "Choose a test problem for which the exact solution is known and compute the\n",
    "error for a decreasing sequence of $h_k$'s, for instance $h_k=H/2^k$,\n",
    "$k=0,1,2,\\dots$. The procedure is then quite similar to what was done for\n",
    "iterative processes."
   ]
  },
  {
   "cell_type": "markdown",
   "metadata": {
    "editable": true,
    "slideshow": {
     "slide_type": "slide"
    },
    "tags": []
   },
   "source": [
    "$$\n",
    "\\begin{array}{rcl} e(h_{k+1}) &\\approx& C h_{k+1}^p \\\\  e(h_k) &\\approx& C h_k^p \\end{array}\n",
    "  \\qquad \\Rightarrow \\qquad \n",
    "  \\frac{e(h_{k+1})}{e(h_k)} \\approx \\left( \\frac{h_{k+1}}{h_k} \\right)^p \n",
    "  \\qquad \\Rightarrow \\qquad \n",
    "  p \\approx \\frac{\\log{(e(h_{k+1})/e(h_k))}}{\\log{(h_{k+1}/h_k)}}\n",
    "$$"
   ]
  },
  {
   "cell_type": "markdown",
   "metadata": {
    "editable": true,
    "slideshow": {
     "slide_type": "slide"
    },
    "tags": []
   },
   "source": [
    "For one refinement step where one passes from $h_k \\to h_{k+1}$, the number\n",
    "$$\n",
    "EOC(k) \\approx \\frac{\\log{(e(h_{k+1})/e(h_k))}}{\\log{(h_{k+1}/h_k)}}\n",
    "$$\n",
    "is often called the \"**Experimental order of convergence** at refinement level k\""
   ]
  },
  {
   "cell_type": "markdown",
   "metadata": {
    "editable": true,
    "slideshow": {
     "slide_type": "slide"
    },
    "tags": []
   },
   "source": [
    "Since\n",
    "$$\n",
    "e(h) \\approx Ch^p \\qquad \\Rightarrow \\qquad \n",
    "\\underbrace{\\log{e(h)}}_{y} \\approx \\underbrace{\\log{C}}_{a} + p \\underbrace{\\log{h}}_{x}\n",
    "$$\n",
    "a plot of $e(h)$ as a function of $h$ using a logarithmic scale on both axes (a log-log plot)\n",
    "will be a straight line with slope $p$. Such a plot is referred to as\n",
    "an *error plot* or a *convergence plot*."
   ]
  },
  {
   "cell_type": "markdown",
   "metadata": {
    "editable": true,
    "slideshow": {
     "slide_type": "slide"
    },
    "tags": []
   },
   "source": [
    ":::{exercise} Convergence order of composite trapezoidal rule\n",
    ":label: exe-ctr-eoc\n",
    "Examine the convergence order of composite trapezoidal rule.\n",
    "\n",
    ":::"
   ]
  },
  {
   "cell_type": "code",
   "execution_count": null,
   "metadata": {
    "editable": true,
    "slideshow": {
     "slide_type": "slide"
    },
    "tags": []
   },
   "outputs": [],
   "source": [
    "# Insert your code here."
   ]
  },
  {
   "cell_type": "markdown",
   "metadata": {
    "editable": true,
    "slideshow": {
     "slide_type": "slide"
    },
    "tags": []
   },
   "source": [
    ":::{solution-start} exe-ctr-eoc\n",
    ":::"
   ]
  },
  {
   "cell_type": "code",
   "execution_count": null,
   "metadata": {
    "editable": true,
    "slideshow": {
     "slide_type": "slide"
    },
    "tags": []
   },
   "outputs": [],
   "source": [
    "# Define function\n",
    "def f(x):\n",
    "    return np.cos(pi*x/2)\n",
    "\n",
    "# Exact integral\n",
    "int_f = 2/pi \n",
    "\n",
    "# Interval\n",
    "a, b = 0, 1\n",
    "\n",
    "errs = []\n",
    "hs = []\n",
    "\n",
    "# Compute integral numerically\n",
    "for m in [4, 8, 16, 32, 64]:\n",
    "    cqr_f = CT(f, a, b, m)\n",
    "    print(\"Number of subintervals m = {}\".format(m))\n",
    "    print(\"Q[f] = {}\".format(cqr_f))\n",
    "    err = int_f - cqr_f\n",
    "    errs.append(err)\n",
    "    hs.append((b-a)/m)\n",
    "    print(\"I[f] - Q[f] = {:.10e}\".format(err))\n",
    "\n",
    "hs = np.array(hs)\n",
    "errs = np.array(errs)\n",
    "\n",
    "eocs = np.log(errs[1:]/errs[:-1])/np.log(hs[1:]/hs[:-1])\n",
    "print(eocs)\n",
    "plt.figure(figsize=(6, 3)) \n",
    "plt.loglog(hs, errs, \"bo-\")\n",
    "plt.xlabel(\"log(h)\")\n",
    "plt.ylabel(\"log(err)\")\n",
    "\n",
    "# Adding infinity in first row to eoc list\n",
    "# to make it the same length as errs\n",
    "eocs = np.insert(eocs, 0, np.inf)"
   ]
  },
  {
   "cell_type": "code",
   "execution_count": null,
   "metadata": {
    "editable": true,
    "slideshow": {
     "slide_type": "slide"
    },
    "tags": []
   },
   "outputs": [],
   "source": [
    "# Do a pretty print of the tables using panda\n",
    "import pandas as pd\n",
    "#from IPython.display import display\n",
    "\n",
    "table = pd.DataFrame({'Error': errs, 'EOC' : eocs})\n",
    "display(table)\n",
    "print(table)"
   ]
  },
  {
   "cell_type": "markdown",
   "metadata": {
    "editable": true,
    "slideshow": {
     "slide_type": ""
    },
    "tags": []
   },
   "source": [
    ":::{solution-end}\n",
    ":::"
   ]
  },
  {
   "cell_type": "markdown",
   "metadata": {
    "editable": true,
    "slideshow": {
     "slide_type": "slide"
    },
    "tags": []
   },
   "source": [
    ":::{exercise} Composite Simpson's rule\n",
    "\n",
    "The composite Simpson's rule is considered in detail in homework assignment 2.\n",
    "\n",
    ":::"
   ]
  },
  {
   "cell_type": "markdown",
   "metadata": {
    "editable": true,
    "slideshow": {
     "slide_type": "slide"
    },
    "tags": []
   },
   "source": [
    ":::{prf:theorem} Quadrature error estimate for composite Simpon's rule\n",
    ":label: thm-csr-err-estim\n",
    "Let $f\\in C^4(a,b)$, then\n",
    "the quadrature error $I[f]-\\mathrm{CT}[f]$\n",
    "for the composite trapezoidal rule can be estimated by\n",
    "\n",
    "\\begin{equation}\n",
    "|I[f]-\\mathrm{CSR}[f]|\n",
    "\\leqslant\n",
    "\\dfrac{M_4}{2880} \\dfrac{(b-a)^5}{m^4}\n",
    "=\n",
    "\\dfrac{M_4}{2880}\n",
    "h^4(b-a)\n",
    "\\label{quad:thm:csr_est} \\tag{3}\n",
    "\\end{equation}\n",
    "\n",
    "where  $M_4 = \\max_{\\xi\\in[a,b]} |f^{(4)}(\\xi)|$.\n",
    ":::\n",
    "\n",
    "\n",
    "**Proof.**\n",
    "\n",
    "*Will be part of homework assignment 2.*"
   ]
  }
 ],
 "metadata": {
  "celltoolbar": "Slideshow",
  "jupytext": {
   "formats": "ipynb,md:myst"
  },
  "kernelspec": {
   "display_name": "Python 3 (ipykernel)",
   "language": "python",
   "name": "python3"
  },
  "language_info": {
   "codemirror_mode": {
    "name": "ipython",
    "version": 3
   },
   "file_extension": ".py",
   "mimetype": "text/x-python",
   "name": "python",
   "nbconvert_exporter": "python",
   "pygments_lexer": "ipython3",
   "version": "3.13.3"
  }
 },
 "nbformat": 4,
 "nbformat_minor": 4
}
