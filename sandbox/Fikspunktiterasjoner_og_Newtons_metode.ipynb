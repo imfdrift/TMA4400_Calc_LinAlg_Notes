{
 "cells": [
  {
   "cell_type": "markdown",
   "id": "9c0b0e95",
   "metadata": {},
   "source": [
    "# Fikspunktiterasjoner og Newtons metode\n",
    "\n",
    "**TMA4400 Matematikk 1: Kalkulus og lineær algebra**\n",
    "\n",
    "Dato: **13. oktober 2025**"
   ]
  },
  {
   "cell_type": "markdown",
   "id": "9f68f752",
   "metadata": {},
   "source": [
    "## Fikspunktiterasjoner\n",
    "\n",
    "Tidligere så vi at $x_0$ er et fikspunkt til $f(x)$ dersom\n",
    "\n",
    "$$\n",
    "f(x_0)=x_0,\n",
    "$$\n",
    "\n",
    "og vi kunne finne dette fikspunktet ved å studere følgen $\\{a_n\\}_{n=0}^{\\infty}\\subseteq \\mathbb{R}$ gitt rekursivt som\n",
    "\n",
    "$$\n",
    "a_{n+1}=f(a_n),\\qquad\\text{med initialverdien $a_0$.}\n",
    "$$\n",
    "\n",
    "Vi skal nå studere fikspunktiterasjoner ytterligere."
   ]
  },
  {
   "cell_type": "markdown",
   "id": "be8adf10",
   "metadata": {},
   "source": [
    "#### Eksempel\n",
    "\n",
    "La oss fortsette med å finne $\\sqrt{2}$. Tidligere så vi at\n",
    "\n",
    "$$\n",
    "f(x)=\\frac{1}{2}\\left(x+\\frac{2}{x}\\right)\n",
    "$$\n",
    "\n",
    "var en måte å skrive $x^2-2=0$ om til en fikspunktiterasjon.\n",
    "\n",
    "En annen måte er gitt ved \n",
    "\n",
    "$$\n",
    "g(x)=\\frac{2}{x}.\n",
    "$$\n",
    "\n",
    "La oss undersøke hva som skjer for disse to eksemplene. Under finner dere en python-kode som kan hjelpe til med å visualisere dette. Prøv også med ulike initialverdier."
   ]
  },
  {
   "cell_type": "code",
   "execution_count": 1,
   "id": "7f4c3bbb",
   "metadata": {},
   "outputs": [],
   "source": [
    "import numpy as np\n",
    "\n",
    "# generisk iterativ fikspunktmetode\n",
    "def fikspunkt(F, a, toleranse = 1.0E-10, N = 500):\n",
    "    Fa = F(a)\n",
    "    n = 0\n",
    "    punkter = [(a, Fa)] \n",
    "    while abs(Fa-a) >= toleranse and n < N: # vi gjør dette mens |F(x)-x|>=toleranse og n<N\n",
    "        a = F(a)   # ny initialverdi\n",
    "        n = n+1    # ny n\n",
    "        Fa = F(a)  # ny F(x)\n",
    "        punkter.append((a, Fa))\n",
    "    if n >= N:\n",
    "        print(\"Fant ikke fikspunkt for gitt startverdi. Returnerer nåværende verdier.\")\n",
    "        return Fa, punkter\n",
    "    else: \n",
    "        return Fa, punkter"
   ]
  },
  {
   "cell_type": "code",
   "execution_count": 2,
   "id": "09201f9d",
   "metadata": {},
   "outputs": [
    {
     "name": "stdout",
     "output_type": "stream",
     "text": [
      "n =   0,\t x = 9.000000000000000,\t F(x) = 4.611111111111111\n",
      "n =   1,\t x = 4.611111111111111,\t F(x) = 2.522423025435073\n",
      "n =   2,\t x = 2.522423025435073,\t F(x) = 1.657655721288586\n",
      "n =   3,\t x = 1.657655721288586,\t F(x) = 1.432089434900886\n",
      "n =   4,\t x = 1.432089434900886,\t F(x) = 1.414325129015109\n",
      "n =   5,\t x = 1.414325129015109,\t F(x) = 1.414213566773468\n",
      "n =   6,\t x = 1.414213566773468,\t F(x) = 1.414213562373095\n",
      "n =   7,\t x = 1.414213562373095,\t F(x) = 1.414213562373095\n"
     ]
    }
   ],
   "source": [
    "# definerer funksjonen vi skal bruke\n",
    "def F(x):\n",
    "    return 0.5*(x+(2/x)) # vi bruker f(x)\n",
    "#def F(x):\n",
    "#    return 2/x # vi bruker g(x)\n",
    "\n",
    "a_0 = 9 # en mulig initialverdi\n",
    "\n",
    "# finner fikspunkt med gitt initialverdi\n",
    "svar, punkter = fikspunkt(F, a_0)\n",
    "\n",
    "# skriver ut punkter\n",
    "n = 0\n",
    "for punkt in punkter:\n",
    "    print(\"n = {:3d},\\t x = {:1.15f},\\t F(x) = {:1.15f}\".format(n,*punkt))\n",
    "    n = n+1"
   ]
  },
  {
   "cell_type": "code",
   "execution_count": 3,
   "id": "a2e318a1",
   "metadata": {},
   "outputs": [
    {
     "data": {
      "image/png": "[encoded data removed]",
      "text/plain": [
       "<Figure size 432x288 with 1 Axes>"
      ]
     },
     "metadata": {
      "needs_background": "light"
     },
     "output_type": "display_data"
    }
   ],
   "source": [
    "import numpy as np\n",
    "import matplotlib.pyplot as plt\n",
    "\n",
    "x = np.arange(0.05, 10.05, 0.01) # lager mesh for grafer på en annen måte enn tidligere\n",
    "\n",
    "# fikspunktet inntreffer når følgende grafer skjærer hverandre\n",
    "plt.plot(x, F(x), 'b') # plotter F(x) i blått \n",
    "plt.plot(x, x, 'r')    # plotter y = x i rødt\n",
    "\n",
    "# visualiser fikspunktiterasjonen i grønt\n",
    "for x, y in punkter:\n",
    "    plt.plot([x, x], [x, y], 'g') # lager vertikal linje mellom punktene (x,x) og (x,y)\n",
    "    plt.plot([x, y], [y, y], 'g') # lager horisontal linje mellom punktene (x,y) og (y,y)\n",
    "plt.show()"
   ]
  },
  {
   "cell_type": "markdown",
   "id": "4ad91ff7",
   "metadata": {},
   "source": [
    "Fikspunktiterasjonen for $x=g(x)$ konvergerer altså ikke mot $\\sqrt{2}$ selv om løsningsmengden er gitt ved $x^2-2=0$ her også. Vi trenger matematisk teori som sikrer oss konvergens av fikspunktiterasjoner."
   ]
  },
  {
   "cell_type": "markdown",
   "id": "108c109b",
   "metadata": {},
   "source": [
    "### Konvergens av fikspunktiterasjoner\n",
    "\n",
    "Vi begynner med et helt grunnleggende teorem.\n",
    "\n",
    "---\n",
    "\n",
    "**Teorem.** Anta at $f(x)$ er kontinuerlig, at følgen $\\{a_n\\}_{n=0}^{\\infty}\\subseteq \\mathbb{R}$ er gitt rekursivt som\n",
    "\n",
    "$$\n",
    "a_{n+1}=f(a_n),\\qquad\\text{med initialverdien $a_0$,}\n",
    "$$ \n",
    "\n",
    "og at $\\lim_{n\\to\\infty}a_n=r$. \n",
    "\n",
    "Da er $f(r)=r$, altså er $r$ et fikspunkt for $f(x)$.\n",
    "\n",
    "---\n",
    "\n",
    "Beviset er rett og slett at for kontinuerlige funksjoner kan vi flytte grenseverdien inn i funksjonen:\n",
    "\n",
    "$$\n",
    "r=\\lim_{n\\to\\infty}a_{n+1}=\\lim_{n\\to\\infty}f(a_n)=f\\left(\\lim_{n\\to\\infty}a_n\\right)=f(r).\n",
    "$$\n",
    "\n",
    "Her antok vi at følgen $\\{a_n\\}_{n=0}^{\\infty}$ konvergerte mot $r$. Når kan vi garantere dette?"
   ]
  },
  {
   "cell_type": "markdown",
   "id": "66e25c8c",
   "metadata": {},
   "source": [
    "I eksempelet over hadde vi faktisk at \n",
    "\n",
    "$$\n",
    "f'(\\sqrt{2})=\\frac{1}{2}-\\frac{1}{(\\sqrt{2})^2}=0,\n",
    "$$\n",
    "\n",
    "eller for $x$ nærme fikspunktet $\\sqrt{2}$ vil $|f'(x)|<1$, mens i det andre tilfellet var\n",
    "\n",
    "$$\n",
    "g'(\\sqrt{2})=-\\frac{2}{(\\sqrt{2})^2}=-1,\n",
    "$$\n",
    "\n",
    "og da kan vi ikke garantere at $|g'(x)|<1$ for $x$ nærme fikspunktet. \n",
    "\n",
    "---\n",
    "\n",
    "**Teorem.** Anta at $r$ er et fikspunkt for $f(x)$, at $f'(x)$ er kontinuerlig i et åpent område om $r$, og at $|f'(r)|<1$. \n",
    "\n",
    "Da er vil følgen $\\{a_n\\}_{n=0}^{\\infty}\\subseteq \\mathbb{R}$ er gitt rekursivt som\n",
    "\n",
    "$$\n",
    "a_{n+1}=f(a_n)\n",
    "$$ \n",
    "\n",
    "konvergere mot $r$ for alle initialverdier $a_0$ som starter nærme nok $r$.\n",
    "\n",
    "---\n",
    "\n",
    "Beviset er basert på middelverdisetningen. Legg merke til at\n",
    "\n",
    "$$\n",
    "a_{n+1}-r=f(a_n)-f(r)=f'(\\xi_n)(a_n-r),\\qquad \\text{for $\\xi_n$ mellom $a_n$ og $r$.}\n",
    "$$\n",
    "\n",
    "Dette gir selvsagt at \n",
    "\n",
    "$$\n",
    "|a_{n+1}-r|=|f'(\\xi_n)||a_n-r|.\n",
    "$$\n",
    "\n",
    "Siden $|f'(r)|<1$ og $f'(x)$ er kontinuerlig i et åpent område om $r$, gir skjæringssetningen at det eksisterer et reelt tall $\\delta>0$ slik at \n",
    "\n",
    "$$\n",
    "|f'(x)|<1,\\qquad \\text{for $x\\in(r-\\delta,r+\\delta)$.}\n",
    "$$\n",
    "\n",
    "Vi ser også at hvis $a_n\\in(r-\\delta,r+\\delta)$, vil $\\xi_n\\in(r-\\delta,r+\\delta)$ slik at $|f'(\\xi_n)|<1$.\n",
    "\n",
    "Da får vi\n",
    "\n",
    "$$\n",
    "|a_{n+1}-r|<|a_n-r|<|a_{n-1}-r|<\\ldots<|a_0-r|.\n",
    "$$\n",
    "\n",
    "Følgen $\\{b_n\\}_{n=0}^{\\infty}\\subseteq \\mathbb{R}$ gitt ved $b_n=|a_n-r|$ er avtagende og nedre begrenset av $0$, og derfor konvergent. Grenseverdien er gitt ved\n",
    "\n",
    "$$\n",
    "\\lim_{n\\to\\infty}b_n=\\lim_{n\\to\\infty}|a_n-r|=\\left|\\lim_{n\\to\\infty}a_n-r\\right|=\\lim_{n\\to\\infty}|f(a_{n-1})-f(r)|=\\left|f\\left(\\lim_{n\\to\\infty}a_{n-1}\\right)-f(r)\\right|=|f(r)-f(r)|=0.\n",
    "$$\n",
    "\n",
    "Dette gir at $\\lim_{n\\to\\infty}a_n=r$.\n",
    "\n",
    "La oss nå vise at med betingelsene i teoremet kan $f(x)$ bare kan ha ett fikspunkt. \n",
    "\n",
    "Anta at det finnes to fikspunkt, $r$ og $s$, som ligger nærme hverandre men som ikke er like. Hva kan vi da si om $r$ og $s$? Ved middelverdisetningen og betingelsene på den deriverte i fikspunktene $r$ og $s$, får vi at\n",
    "\n",
    "$$\n",
    "|r-s|=|f(r)-f(s)|\\leq |f'(\\xi)||r-s|<|r-s|,\\qquad \\text{for $\\xi$ mellom $r$ og $s$.}\n",
    "$$\n",
    "\n",
    "Dette er en selvmotsigelse, og derfor må $r=s$.\n",
    "\n",
    "I forbindelse med skjæringssetningen diskuterte vi betingelser på $f(x)$ som sikret at det var minst ett fikspunkt $r$. Sånn sett kunne vi ha byttet ut antagelsen om at det finnes et fikspunkt $r$ for $f(x)$ med antagelser direkte på $f(x)$."
   ]
  },
  {
   "cell_type": "markdown",
   "id": "c8f8e54d",
   "metadata": {},
   "source": [
    "### Feilanalyse for fikspunktiterasjoner\n",
    "\n",
    "---\n",
    "\n",
    "**Definisjon.** Vi definerer feilen $e_n$ i en fikspunktiterasjon til å være \n",
    "\n",
    "$$\n",
    "e_n=|a_n-r|.\n",
    "$$\n",
    "\n",
    "Vi definerer også konvergensordenen til å være det reelle tallet $q$ slik at grenseverdien\n",
    "\n",
    "$$\n",
    "\\lim_{n\\to\\infty}\\frac{e_{n+1}}{(e_{n})^q}\n",
    "$$\n",
    "\n",
    "eksisterer og er forskjellig fra $0$.\n",
    "\n",
    "---\n",
    "\n",
    "Fra beviset over ser vi at\n",
    "\n",
    "$$\n",
    "\\lim_{n\\to\\infty}\\frac{e_{n+1}}{e_{n}}=\\lim_{n\\to\\infty}|f'(\\xi_n)|=|f'(r)|<\\infty.\n",
    "$$\n",
    "\n",
    "Altså er konvergensorden for fikspunktiterasjonen med $f(x)$ slik at $0\\neq|f'(r)|<1$ lik $1$. \n",
    "\n",
    "Det at $|f'(r)|<1$ sier altså at feilen avtar. \n",
    "\n",
    "I eksempelet hvor $f(x)=\\frac{1}{2}(x+\\frac{2}{x})$ så vi at $f'(\\sqrt{2})=0$. I dette tilfellet må vi gjøre en mer nøyaktig analyse, men konklusjonen blir ved hjelp av Taylors teorem at\n",
    "\n",
    "$$\n",
    "\\lim_{n\\to\\infty}\\frac{e_{n+1}}{(e_{n})^2}=\\lim_{n\\to\\infty}\\frac{1}{2}|f''(\\xi_n)|=\\frac{1}{2}|f''(r)|,\n",
    "$$\n",
    "\n",
    "hvor \n",
    "\n",
    "$$\n",
    "\\frac{1}{2}|f''(\\sqrt{2})|=\\frac{1}{2}\\left|\\frac{2}{(\\sqrt{2})^3}\\right|\\approx0.3535534.\n",
    "$$\n",
    "\n",
    "La oss teste teorien numerisk:"
   ]
  },
  {
   "cell_type": "code",
   "execution_count": 4,
   "id": "acfd86cc",
   "metadata": {},
   "outputs": [
    {
     "name": "stdout",
     "output_type": "stream",
     "text": [
      "følgens verdi =          9.0, rota av 2 = 1.4142135623730951\n",
      "utregnet forhold = 0.05555555555555555, teoretisk forhold = 0.3535533905932738\n",
      "============================================\n",
      "følgens verdi = 4.611111111111111, rota av 2 = 1.4142135623730951\n",
      "utregnet forhold = 0.10843373493975902, teoretisk forhold = 0.3535533905932738\n",
      "============================================\n",
      "følgens verdi = 2.5224230254350735, rota av 2 = 1.4142135623730951\n",
      "utregnet forhold = 0.19822210428552478, teoretisk forhold = 0.3535533905932738\n",
      "============================================\n",
      "følgens verdi = 1.6576557212885863, rota av 2 = 1.4142135623730951\n",
      "utregnet forhold = 0.30163078712829466, teoretisk forhold = 0.3535533905932738\n",
      "============================================\n",
      "følgens verdi = 1.4320894349008857, rota av 2 = 1.4142135623730951\n",
      "utregnet forhold = 0.3491402057823368, teoretisk forhold = 0.3535533905932738\n",
      "============================================\n",
      "følgens verdi = 1.4143251290151087, rota av 2 = 1.4142135623730951\n",
      "utregnet forhold = 0.3535254970448626, teoretisk forhold = 0.3535533905932738\n",
      "============================================\n",
      "følgens verdi = 1.4142135667734679, rota av 2 = 1.4142135623730951\n",
      "utregnet forhold = 11.467303203178787, teoretisk forhold = 0.3535533905932738\n",
      "============================================\n",
      "følgens verdi = 1.414213562373095, rota av 2 = 1.4142135623730951\n"
     ]
    }
   ],
   "source": [
    "import math\n",
    "\n",
    "# definerer funksjonen vi skal bruke\n",
    "def F(x):\n",
    "    return 0.5*(x+(2/x)) # vi bruker f(x)\n",
    "\n",
    "a_0 = 9 # en mulig initialverdi nærme rota av 2\n",
    "\n",
    "# finner fikspunkt med gitt initialverdi\n",
    "svar, punkter = fikspunkt(F, a_0)\n",
    "\n",
    "# henter ut selve følgen\n",
    "a = np.zeros(len(punkter))\n",
    "n = 0 \n",
    "for x, y in punkter:\n",
    "    a[n] = x\n",
    "    n = n+1\n",
    "\n",
    "# sjekker forholdet e_{n+1}/(e_n)^2\n",
    "for i in range(0,len(a)-1):\n",
    "    print(\"følgens verdi = {:>12}, rota av 2 = {:>12}\".format(str(a[i]), str(math.sqrt(2))))\n",
    "    print(\"utregnet forhold = {:>12}, teoretisk forhold = {:>12}\".format(str(abs(a[i+1]-math.sqrt(2))/(abs(a[i]-math.sqrt(2))**2)), str(2**(-3/2))))\n",
    "    print(\"============================================\")\n",
    "print(\"følgens verdi = {:>12}, rota av 2 = {:>12}\".format(str(a[i+1]), str(math.sqrt(2))))"
   ]
  },
  {
   "cell_type": "markdown",
   "id": "27e2499c",
   "metadata": {},
   "source": [
    "Det siste utregningen av forholdet $\\frac{e_{n+1}}{(e_n)^2}$ gir et for høyt tall pga. flyttallsfeil. Følgen kommer tross alt nærmere og nærmere verdien av $\\sqrt{2}$ for hver utregning."
   ]
  },
  {
   "cell_type": "markdown",
   "id": "3daf8701",
   "metadata": {},
   "source": [
    "## Newtons metode\n",
    "\n",
    "Tidligere så vi at $x_0$ er en rot eller et nullpunkt til $f(x)$ dersom\n",
    "\n",
    "$$\n",
    "f(x_0)=0.\n",
    "$$\n",
    "\n",
    "Ideen i Newtons metode er å bytte ut funksjonen $f(x)$ med den lineære tilnærmingen av $f(x)$ om punktet $x=a_n$:\n",
    "\n",
    "$$\n",
    "f(x)\\approx f(a_n)+f'(a_n)(x-a_n).\n",
    "$$\n",
    "\n",
    "Vi får da\n",
    "\n",
    "$$\n",
    "f(a_n)+f'(a_n)(x-a_n)=0 \\qquad\\Longleftrightarrow\\qquad x=a_n-\\frac{f(a_n)}{f'(a_n)}\n",
    "$$\n",
    "\n",
    "Nå bør da $x$ være en approksimasjon av $x_0$, og vi lar derfor $x=a_{n+1}$. Dette gir oss den rekursive følgen\n",
    "\n",
    "$$\n",
    "a_{n+1}=a_n-\\frac{f(a_n)}{f'(a_n)},\\qquad\\text{med initialverdien $a_0$.}\n",
    "$$\n",
    "\n",
    "La oss implementere Newtons metode for \n",
    "\n",
    "$$\n",
    "f(x)=x^2-2,\n",
    "$$\n",
    "\n",
    "med $f'(x)=2x$."
   ]
  },
  {
   "cell_type": "code",
   "execution_count": 5,
   "id": "7db8476f",
   "metadata": {},
   "outputs": [],
   "source": [
    "import numpy as np\n",
    "\n",
    "# generisk newtons metode\n",
    "def newton(F, dF, a, toleranse = 1.0E-10, N = 500):\n",
    "    Fa = F(a)\n",
    "    n = 0\n",
    "    punkter = [(a, Fa)] \n",
    "    while abs(Fa-0) >= toleranse and n < N: # vi gjør dette mens |F(x)-0|>=toleranse og n<N\n",
    "        a = a-F(a)/dF(a)   # ny initialverdi\n",
    "        n = n+1    # ny n\n",
    "        Fa = F(a)  # ny F(x)\n",
    "        dFa = dF(a)# ny dF(x)\n",
    "        punkter.append((a, Fa))\n",
    "    if n >= N:\n",
    "        print(\"Fant ikke fikspunkt for gitt startverdi. Returnerer nåværende verdier.\")\n",
    "        return Fa, punkter\n",
    "    else: \n",
    "        return Fa, punkter"
   ]
  },
  {
   "cell_type": "code",
   "execution_count": 6,
   "id": "c89b59ca",
   "metadata": {},
   "outputs": [
    {
     "name": "stdout",
     "output_type": "stream",
     "text": [
      "n =   0,\t x = 9.000000000000000,\t F(x) = 79.000000000000000\n",
      "n =   1,\t x = 4.611111111111111,\t F(x) = 19.262345679012341\n",
      "n =   2,\t x = 2.522423025435073,\t F(x) = 4.362617919245030\n",
      "n =   3,\t x = 1.657655721288586,\t F(x) = 0.747822490320783\n",
      "n =   4,\t x = 1.432089434900886,\t F(x) = 0.050880149554738\n",
      "n =   5,\t x = 1.414325129015108,\t F(x) = 0.000315570563603\n",
      "n =   6,\t x = 1.414213566773468,\t F(x) = 0.000000012446134\n",
      "n =   7,\t x = 1.414213562373095,\t F(x) = 0.000000000000000\n"
     ]
    }
   ],
   "source": [
    "# definerer funksjonen vi skal bruke\n",
    "def F(x):\n",
    "    return x**2-2 # vi bruker f(x)\n",
    "\n",
    "def dF(x):\n",
    "    return 2*x # vi bruker f'(x)\n",
    "\n",
    "a_0 = 9 # en mulig initialverdi\n",
    "\n",
    "# finner fikspunkt med gitt initialverdi\n",
    "svar, punkter = newton(F, dF, a_0)\n",
    "\n",
    "# skriver ut punkter\n",
    "n = 0\n",
    "for punkt in punkter:\n",
    "    print(\"n = {:3d},\\t x = {:1.15f},\\t F(x) = {:1.15f}\".format(n,*punkt))\n",
    "    n = n+1"
   ]
  },
  {
   "cell_type": "markdown",
   "id": "11e47b28",
   "metadata": {},
   "source": [
    "#### Eksempel\n",
    "\n",
    "Bruk Newtons metode til å løse \n",
    "\n",
    "$$\n",
    "f(x)=x^3+x^2-3x-3=0.\n",
    "$$ \n",
    "\n",
    "Velg $a_0=2$."
   ]
  },
  {
   "cell_type": "code",
   "execution_count": 7,
   "id": "c09c9234",
   "metadata": {},
   "outputs": [
    {
     "name": "stdout",
     "output_type": "stream",
     "text": [
      "n =   0,\t x = 2.000000000000000,\t F(x) = 3.000000000000000\n",
      "n =   1,\t x = 1.769230769230769,\t F(x) = 0.360491579426490\n",
      "n =   2,\t x = 1.732923810396993,\t F(x) = 0.008266910438978\n",
      "n =   3,\t x = 1.732051306108974,\t F(x) = 0.000004718235672\n",
      "n =   4,\t x = 1.732050807569040,\t F(x) = 0.000000000001539\n"
     ]
    }
   ],
   "source": [
    "# definerer funksjonen vi skal bruke\n",
    "def F(x):\n",
    "    return x**3+x**2-3*x-3 # vi bruker f(x)\n",
    "\n",
    "def dF(x):\n",
    "    return 3*x**2+2*x-3 # vi bruker f'(x)\n",
    "\n",
    "a_0 = 2 # en mulig initialverdi\n",
    "\n",
    "# finner fikspunkt med gitt initialverdi\n",
    "svar, punkter = newton(F, dF, a_0)\n",
    "\n",
    "# skriver ut punkter\n",
    "n = 0\n",
    "for punkt in punkter:\n",
    "    print(\"n = {:3d},\\t x = {:1.15f},\\t F(x) = {:1.15f}\".format(n,*punkt))\n",
    "    n = n+1"
   ]
  },
  {
   "cell_type": "markdown",
   "id": "ff602b86",
   "metadata": {},
   "source": [
    "Vi kontrollerer ved å plotte den aktuelle funksjonen:"
   ]
  },
  {
   "cell_type": "code",
   "execution_count": 8,
   "id": "f65eaa0f",
   "metadata": {},
   "outputs": [
    {
     "data": {
      "image/png": "[encoded data removed]",
      "text/plain": [
       "<Figure size 432x288 with 1 Axes>"
      ]
     },
     "metadata": {
      "needs_background": "light"
     },
     "output_type": "display_data"
    }
   ],
   "source": [
    "# plotter funksjonen på et intervall \n",
    "x = np.linspace(-2, 2, 101)     # antall x-verdier i intervallet [-2,2]\n",
    "plt.plot(x, F(x))               # plotter funksjonen f(x) i blått\n",
    "plt.plot(x, 0*x, 'r')           # plotter x-aksen i rødt\n",
    "plt.xlabel('x')\n",
    "plt.grid(True)\n",
    "plt.ylabel('f(x)');"
   ]
  },
  {
   "cell_type": "markdown",
   "id": "af9ae07a",
   "metadata": {},
   "source": [
    "Legg merke til at det er $2$ andre nullpunkt også, men vi finner det nullpunktet som er nærme initialverdien $a_0=2$."
   ]
  },
  {
   "cell_type": "markdown",
   "id": "ca0d2f99",
   "metadata": {},
   "source": [
    "### Newtons metode er en fikspunktiterasjon\n",
    "\n",
    "Hvis vi lar \n",
    "\n",
    "$$\n",
    "F(x)=x-\\frac{f(x)}{f'(x)}\n",
    "$$\n",
    "\n",
    "ser vi at Newtons metode er en fikspunktiterasjon gitt ved \n",
    "\n",
    "$$\n",
    "a_{n+1}=F(a_n).\n",
    "$$\n",
    "\n",
    "Konvergens- og feilanalysen vi gjorde for fikspunktiterasjoner gjelder da også for Newtons metode. Vi legger også merke til at\n",
    "\n",
    "$$\n",
    "F'(x)=\\frac{f(x)f''(x)}{(f'(x))^2}.\n",
    "$$\n",
    "\n",
    "Dette betyr at i fikspunktet, $r$, som da er nullpunktet til funksjonen $f(x)$, har vi automatisk at $F'(r)=0$.\n",
    "\n",
    "Sammenlignet med fikspunktiterasjoner, som generelt sett har konvergensorden lik $1$, vil altså Newtons metode generelt sett ha konvergensorden lik $2$.\n",
    "\n",
    "---\n",
    "\n",
    "**Teorem.** Anta at $f(x)$, $f'(x)$ og $f''(x)$ alle er kontinuerlige funksjoner, og at $r$ er slik at $f(r)=0$, $f'(r)\\neq0$ og $f''(r)\\neq 0$. Da konvergerer Newtons metode mot $r$ for alle initialverdier $a_0$ som starter nærme nok $r$, og \n",
    "\n",
    "$$\n",
    "\\lim_{n\\to\\infty}\\frac{e_{n+1}}{(e_n)^2}=\\frac{1}{2}\\left|\\frac{f''(r)}{f'(r)}\\right|.\n",
    "$$\n",
    "\n",
    "\n",
    "---\n",
    "\n",
    "Beviset av den siste delen av teoremet skal vi gjøre i Innlevering 3."
   ]
  }
 ],
 "metadata": {
  "kernelspec": {
   "display_name": "Python 3",
   "language": "python",
   "name": "python3"
  },
  "language_info": {
   "codemirror_mode": {
    "name": "ipython",
    "version": 3
   },
   "file_extension": ".py",
   "mimetype": "text/x-python",
   "name": "python",
   "nbconvert_exporter": "python",
   "pygments_lexer": "ipython3",
   "version": "3.8.8"
  }
 },
 "nbformat": 4,
 "nbformat_minor": 5
}
