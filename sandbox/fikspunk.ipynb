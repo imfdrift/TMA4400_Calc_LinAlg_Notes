{
 "cells": [
  {
   "cell_type": "code",
   "execution_count": null,
   "id": "00362455",
   "metadata": {},
   "outputs": [
    {
     "name": "stdout",
     "output_type": "stream",
     "text": [
      "Løsning (metode 1): [1.00000238 2.00000179]\n"
     ]
    },
    {
     "name": "stderr",
     "output_type": "stream",
     "text": [
      "C:\\Users\\jonajh\\AppData\\Local\\Temp\\ipykernel_1448\\4135851233.py:16: RuntimeWarning: overflow encountered in scalar multiply\n",
      "  f2 = lambda x: np.array([5-3*x[0], 5-2*x[1]])\n",
      "C:\\Users\\jonajh\\AppData\\Local\\Temp\\ipykernel_1448\\4135851233.py:5: RuntimeWarning: overflow encountered in subtract\n",
      "  while np.linalg.norm(f(x)-x) > tol:\n"
     ]
    }
   ],
   "source": [
    "import numpy as np\n",
    "\n",
    "def fikspunkt(f, x0, tol):\n",
    "    x = x0.copy()\n",
    "    while np.linalg.norm(f(x)-x) > tol:\n",
    "        x = f(x)\n",
    "    return x\n",
    "\n",
    "f1 = lambda x: np.array([(5-x[1])/3, (5-x[0])/2])\n",
    "\n",
    "x0 = np.zeros(2)\n",
    "x_sol = fikspunkt(f1, x0, 10**-5)\n",
    "\n",
    "print(f\"Løsning (metode 1): {x_sol}\")\n",
    "\n",
    "f2 = lambda x: np.array([5-3*x[0], 5-2*x[1]])\n",
    "\n",
    "x_sol2 = fikspunkt(f2, x0, 10**-5)\n",
    "print(\"Løsning metode 2:\", x_sol2 )\n",
    "    \n"
   ]
  },
  {
   "cell_type": "code",
   "execution_count": null,
   "id": "bab37ae0",
   "metadata": {},
   "outputs": [],
   "source": []
  }
 ],
 "metadata": {
  "kernelspec": {
   "display_name": "Python 3 (ipykernel)",
   "language": "python",
   "name": "python3"
  },
  "language_info": {
   "codemirror_mode": {
    "name": "ipython",
    "version": 3
   },
   "file_extension": ".py",
   "mimetype": "text/x-python",
   "name": "python",
   "nbconvert_exporter": "python",
   "pygments_lexer": "ipython3",
   "version": "3.11.4"
  }
 },
 "nbformat": 4,
 "nbformat_minor": 5
}
