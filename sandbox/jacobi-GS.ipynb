{
 "cells": [
  {
   "cell_type": "markdown",
   "id": "9d1817dc",
   "metadata": {},
   "source": [
    "$$ x_{k+1} = D^{-1}(b-(L+U)x_k)$$"
   ]
  },
  {
   "cell_type": "code",
   "execution_count": 12,
   "id": "22915b88",
   "metadata": {},
   "outputs": [
    {
     "name": "stdout",
     "output_type": "stream",
     "text": [
      "Løsning: [ 0.47593583 -0.06417112  0.36363636]\n",
      "Feil: 9.474536318716215e-11\n",
      "iterasjoner: 71\n"
     ]
    }
   ],
   "source": [
    "import numpy as np\n",
    "\n",
    "A=np.array([[3,1,-1],\n",
    "            [2,-5,2],\n",
    "            [1,6,8]])\n",
    "b=np.array([1,2,3]).T\n",
    "x0 = np.array([0,0,0]).T\n",
    "tol = 10**-10\n",
    "N = 1000\n",
    "\n",
    "def jacobi1(A,x0,b,tol,N):\n",
    "    n = x0.size\n",
    "    D = np.diag(A)*np.eye(n)\n",
    "    Dinv = np.linalg.inv(D)\n",
    "    L = np.tril(A,-1)\n",
    "    U = np.triu(A,1)\n",
    "    r0 = b-A@x0\n",
    "    err = np.linalg.norm(r0)\n",
    "    it = 0\n",
    "    while err > tol and it < N:\n",
    "        x_new = x0.copy()\n",
    "        x_new = Dinv@(b-(L+U)@x0)\n",
    "        x0 = x_new.copy()\n",
    "        r = b-A@x0\n",
    "        err = np.linalg.norm(r)\n",
    "        it += 1\n",
    "    return x0, err, it\n",
    "\n",
    "x, error, iterations = jacobi1(A,x0,b, tol, N)\n",
    "print(f\"Løsning: {x}\")\n",
    "print(f\"Feil: {error}\")\n",
    "print(f\"iterasjoner: {iterations}\")"
   ]
  },
  {
   "cell_type": "markdown",
   "id": "75032140",
   "metadata": {},
   "source": [
    "$$ x_{k+1} = D^{-1}(b-(L+U)x_k)$$"
   ]
  },
  {
   "cell_type": "code",
   "execution_count": 16,
   "id": "bee56a8f",
   "metadata": {},
   "outputs": [
    {
     "name": "stdout",
     "output_type": "stream",
     "text": [
      "Løsning 2: [ 0.47593583 -0.06417112  0.36363636]\n",
      "Feil 2: 9.474536318716215e-11\n",
      "iterasjoner 2: 71\n"
     ]
    }
   ],
   "source": [
    "def jacobi2(A, x0, b, tol, N):\n",
    "    r0 = b-A@x0\n",
    "    err = np.linalg.norm(r0)\n",
    "    it = 0\n",
    "    n = x0.size\n",
    "    while err > tol and it < N:\n",
    "        x_new = x0.copy()\n",
    "        for i in range(n):\n",
    "            x_new[i] = 1/A[i,i]*(b[i]-A[i, :i]@x0[0:i]\n",
    "                                 -A[i,i+1:]@x0[i+1:])\n",
    "        x0 = x_new.copy()\n",
    "        r = b-A@x0\n",
    "        err = np.linalg.norm(r)\n",
    "        it += 1\n",
    "    return x0, err, it\n",
    "\n",
    "x0 = np.zeros_like(x)\n",
    "x, error, iterations = jacobi2(A,x0,b, tol, N)\n",
    "print(f\"Løsning 2: {x}\")\n",
    "print(f\"Feil 2: {error}\")\n",
    "print(f\"iterasjoner 2: {iterations}\")"
   ]
  },
  {
   "cell_type": "code",
   "execution_count": 17,
   "id": "51b0c4b3",
   "metadata": {},
   "outputs": [
    {
     "name": "stdout",
     "output_type": "stream",
     "text": [
      "Løsning GS: [ 0.47593583 -0.06417112  0.36363636]\n",
      "Feil GS: 6.159568562951978e-11\n",
      "iterasjoner GS: 48\n"
     ]
    }
   ],
   "source": [
    "def gauss_seidel(A,x0,b,tol,N):\n",
    "    r0 = b-A@x0\n",
    "    err = np.linalg.norm(r0)\n",
    "    it = 0\n",
    "    n = x0.size\n",
    "    while err > tol and it < N:\n",
    "        for i in range(n):\n",
    "            x0[i] = 1/A[i,i]*(b[i]-A[i, :i]@x0[0:i]\n",
    "                                 -A[i,i+1:]@x0[i+1:])\n",
    "        r = b-A@x0\n",
    "        err = np.linalg.norm(r)\n",
    "        it += 1\n",
    "    return x0, err, it\n",
    "\n",
    "x0 = np.zeros_like(x)\n",
    "x, error, iterations = gauss_seidel(A,x0,b, tol, N)\n",
    "print(f\"Løsning GS: {x}\")\n",
    "print(f\"Feil GS: {error}\")\n",
    "print(f\"iterasjoner GS: {iterations}\")"
   ]
  },
  {
   "cell_type": "code",
   "execution_count": null,
   "id": "e25e7bba",
   "metadata": {},
   "outputs": [],
   "source": []
  }
 ],
 "metadata": {
  "kernelspec": {
   "display_name": "Python 3 (ipykernel)",
   "language": "python",
   "name": "python3"
  },
  "language_info": {
   "codemirror_mode": {
    "name": "ipython",
    "version": 3
   },
   "file_extension": ".py",
   "mimetype": "text/x-python",
   "name": "python",
   "nbconvert_exporter": "python",
   "pygments_lexer": "ipython3",
   "version": "3.11.4"
  }
 },
 "nbformat": 4,
 "nbformat_minor": 5
}
