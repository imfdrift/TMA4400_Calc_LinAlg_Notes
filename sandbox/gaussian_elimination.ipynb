{
 "cells": [
  {
   "cell_type": "code",
   "execution_count": 187,
   "id": "468f0915-1ac1-4be5-9a32-932f546c327a",
   "metadata": {},
   "outputs": [],
   "source": [
    "import numpy as np\n",
    "import numpy.linalg as la\n",
    "\n",
    "# Gaussian elimination (assuming pivot elements are nonzero!)\n",
    "def GE(B):\n",
    "    A = np.copy(B) # make a copy to avoid changing matrix passed to the function\n",
    "    m,n = np.shape(B) # allow for augmented matrix [A B], where A is mxm, while B is (n-m)x(n-m) and may be empty 0x0\n",
    "    for k in range(0,m-1):\n",
    "        for j in range(k+1,m):\n",
    "            l = A[j,k]/A[k,k]\n",
    "            for p in range(k,n):\n",
    "                A[j,p] -= l*A[k,p]\n",
    "    return A\n",
    "\n",
    "\n",
    "# Gaussian elimination with partial pivoting\n",
    "def GEPP(B):\n",
    "    A = np.copy(B)\n",
    "    m,n = np.shape(A) # allow for augmented matrix [A B], where A is mxm etc.\n",
    "    for k in range(0,m-1):\n",
    "        a = np.abs(A[k,k])\n",
    "        pk = k\n",
    "        for j in range(k+1,m):\n",
    "            if a < np.abs(A[j,k]):\n",
    "                a = np.abs(A[j,k])\n",
    "                pk = j\n",
    "        if pk != k:\n",
    "            for p in range(k,n):\n",
    "                r = A[k,p]\n",
    "                A[k,p] = A[pk,p]\n",
    "                A[pk,p] = r\n",
    "        for j in range(k+1,m):\n",
    "            l = A[j,k]/A[k,k]\n",
    "            for p in range(k,n):\n",
    "                A[j,p] -= l*A[k,p]\n",
    "    return A\n"
   ]
  },
  {
   "cell_type": "markdown",
   "id": "4864a300-b269-4ff6-a92c-2431cc77c8bf",
   "metadata": {},
   "source": [
    "### Gaussian elimination\n",
    "Let us use the Gaussian elimination algorithm on\n",
    "$$A = \\begin{bmatrix} 1 & 4 & 1 \\\\ 2 & -1 & 2 \\\\ 1 & 3 & 2 \\end{bmatrix}.$$"
   ]
  },
  {
   "cell_type": "code",
   "execution_count": 224,
   "id": "fe2c7347-d62d-4f4a-8e67-2b1967ae25b1",
   "metadata": {},
   "outputs": [
    {
     "name": "stdout",
     "output_type": "stream",
     "text": [
      "\n",
      "We start with \n",
      "[[ 1.  4.  1.]\n",
      " [ 2. -1. -2.]\n",
      " [ 1.  3.  2.]]\n",
      "and use (naive) Gaussian elimination to get \n",
      "[[ 1.          4.          1.        ]\n",
      " [ 0.         -9.         -4.        ]\n",
      " [ 0.          0.          1.44444444]]\n"
     ]
    }
   ],
   "source": [
    "A0 = np.array([[1.0,4,1],[2,-1,-2],[1,3,2]])\n",
    "A1 = GE(A0)\n",
    "print('\\nWe start with \\n{0}\\nand use (naive) Gaussian elimination to get \\n{1}'.format(np.matrix(A0),np.matrix(A1)))"
   ]
  },
  {
   "cell_type": "markdown",
   "id": "ac1fa06b-1207-49fb-bb88-19a1a9971e31",
   "metadata": {},
   "source": [
    "### Gaussian elimination with partial pivoting\n",
    "\n",
    "Next we use Gaussian elimination with partial pivoting on\n",
    "$$A = \\begin{bmatrix} 1 & 3 & 2 \\\\ 2 & -1 & 2 \\\\ 1 & 4 & 1 \\end{bmatrix}.$$"
   ]
  },
  {
   "cell_type": "code",
   "execution_count": 225,
   "id": "66430e2e-6450-4021-9552-dd145be39e28",
   "metadata": {},
   "outputs": [
    {
     "name": "stdout",
     "output_type": "stream",
     "text": [
      "\n",
      "We start with \n",
      "[[ 1.  3.  2.]\n",
      " [ 2. -1. -2.]\n",
      " [ 1.  4.  1.]]\n",
      "and use Gaussian elimination with partial pivoting to get \n",
      "[[ 2.         -1.         -2.        ]\n",
      " [ 0.          4.5         2.        ]\n",
      " [ 0.          0.          1.44444444]]\n"
     ]
    }
   ],
   "source": [
    "B0 = np.array([[1,3,2],[2,-1,-2],[1.0,4,1]])\n",
    "B1 = GEPP(A2)\n",
    "print('\\nWe start with \\n{0}\\nand use Gaussian elimination with partial pivoting to get \\n{1}'.format(np.matrix(B0),np.matrix(B1)))"
   ]
  },
  {
   "cell_type": "markdown",
   "id": "afe8b7be-627e-4ac3-9909-985193e6c5cb",
   "metadata": {},
   "source": [
    "### Gaussian elimination and numerical instabilities\n",
    "Now let us see how numerical instablities can be a problem for Gaussian elimination.\n",
    "Let $0 < \\varepsilon \\ll 1$, \n",
    "$$ A = \\begin{bmatrix} \\varepsilon & 1 \\\\ 1 & 1 \\end{bmatrix} \\quad \\text{and} \\quad b = \\begin{bmatrix} 1 \\\\ 2 \\end{bmatrix}. $$\n",
    "To solve the linear system $Ax = b$ we form the augmented matrix $\\begin{bmatrix} A & b \\end{bmatrix}$ and perform Gaussian elimination with and without pivoting to obtain repectively $\\begin{bmatrix} \\tilde{A}_i & \\tilde{b}_i \\end{bmatrix}$ for $i=1,2$, where $\\tilde{A}_i$ is upper triangular.\n",
    "Then we perform backward subsitution to obtain the corresponding solutions $x_1$ and $x_2$.\n",
    "\n",
    "> Try modifying the value of $\\varepsilon$ in the code and see how $x_1$ and $x_2$ change.\n",
    "\n",
    "> Try to change the datatype to a floating point number with smaller bitsize than the standard *double* precision, e.g., *single* or *half* and see how this affects how small $\\varepsilon$ needs to be before $x_1$ and $x_2$ start to differ."
   ]
  },
  {
   "cell_type": "code",
   "execution_count": 244,
   "id": "bcc0285c-69f6-4d9c-8d8f-c13132c87910",
   "metadata": {},
   "outputs": [
    {
     "name": "stdout",
     "output_type": "stream",
     "text": [
      "We start with the augmented matrix\n",
      "[[1.e-06 1.e+00 1.e+00]\n",
      " [1.e+00 1.e+00 2.e+00]].\n",
      "\n",
      "Naive Gaussian elimination yields\n",
      "[[ 1.00000e-06  1.00000e+00  1.00000e+00]\n",
      " [ 0.00000e+00 -9.99999e+05 -9.99998e+05]],\n",
      "while with partial pivoting we get\n",
      "[[1.       1.       2.      ]\n",
      " [0.       0.999999 0.999998]].\n",
      "\n"
     ]
    },
    {
     "data": {
      "text/plain": [
       "dtype('float32')"
      ]
     },
     "metadata": {},
     "output_type": "display_data"
    },
    {
     "name": "stdout",
     "output_type": "stream",
     "text": [
      "Backward substitution yields\n",
      "x1=[1.0132789612,0.9999989867]\n",
      "x2=[1.0000009537,0.9999989867]\n",
      "\n",
      "The built-in solver gives \n",
      "x1=[1.0000009537,0.9999989867]\n"
     ]
    }
   ],
   "source": [
    "epsi = 1e-6 #epsilon, try to vary how small it is\n",
    "C0 = np.array([[epsi,1,1],[1,1,2]],dtype=np.single) # try different types double, single, half\n",
    "C1 = GE(C0)\n",
    "C2 = GEPP(C0)\n",
    "print('We start with the augmented matrix\\n{0}.\\n'.format(np.matrix(C0)))\n",
    "print('Naive Gaussian elimination yields\\n{0},\\nwhile with partial pivoting we get\\n{1}.\\n'.format(np.matrix(C1),np.matrix(C2)))\n",
    "\n",
    "# backward substitution\n",
    "x12 = C1[1,2]/C1[1,1]\n",
    "x11 = (C1[0,2]-C1[0,1]*x12)/C1[0,0]\n",
    "#x1 = np.array([x11,x12])\n",
    "\n",
    "x22 = C2[1,2]/C2[1,1]\n",
    "x21 = (C2[0,2]-C2[0,1]*x12)/C2[0,0]\n",
    "#x2 = np.array([x21,x22])\n",
    "display(C2.dtype)\n",
    "\n",
    "print('Backward substitution yields\\nx1=[{:.10f},{:.10f}]\\nx2=[{:.10f},{:.10f}]'.format(x11,x12,x21,x22))\n",
    "x = la.solve(C0[:,0:2],C0[:,2]) # built-in solver\n",
    "print('\\nThe built-in solver gives \\nx1=[{:.10f},{:.10f}]'.format(x[0],x[1]))"
   ]
  },
  {
   "cell_type": "code",
   "execution_count": null,
   "id": "7e4ca179-c1c8-41d7-855c-0bc594b7912e",
   "metadata": {},
   "outputs": [],
   "source": []
  },
  {
   "cell_type": "code",
   "execution_count": null,
   "id": "8a9f9729-c950-4a6c-9bea-9488bed94450",
   "metadata": {},
   "outputs": [],
   "source": []
  }
 ],
 "metadata": {
  "kernelspec": {
   "display_name": "Python 3",
   "language": "python",
   "name": "python3"
  },
  "language_info": {
   "codemirror_mode": {
    "name": "ipython",
    "version": 3
   },
   "file_extension": ".py",
   "mimetype": "text/x-python",
   "name": "python",
   "nbconvert_exporter": "python",
   "pygments_lexer": "ipython3",
   "version": "3.8.8"
  }
 },
 "nbformat": 4,
 "nbformat_minor": 5
}
