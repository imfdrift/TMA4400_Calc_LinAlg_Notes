{
 "cells": [
  {
   "cell_type": "markdown",
   "id": "e9a3a3aa",
   "metadata": {},
   "source": [
    "# Gauss-eliminasjon\n",
    "\n",
    "**TMA4400 Matematikk 1: Kalkulus og lineær algebra**\n",
    "\n",
    "Dato: **25. august 2025**"
   ]
  },
  {
   "cell_type": "markdown",
   "id": "b5fbad55",
   "metadata": {},
   "source": [
    "## Standard Gauss-eliminasjon\n",
    "\n",
    "La $A$ være ei $m\\times n$-matrise, $\\mathbf{x}$ en vektor i $\\mathbb{R}^n$ og $\\mathbf{b}$ en vektor i $\\mathbb{R}^m$. Vi skal løse ligningssystemet $$A\\mathbf{x}=\\mathbf{b}$$ ved hjelp av Gauss-eliminasjon. \n",
    "\n",
    "Vi går ut i fra at pivot-elementene er forskjellig fra null."
   ]
  },
  {
   "cell_type": "code",
   "execution_count": 22,
   "id": "b090afef",
   "metadata": {},
   "outputs": [],
   "source": [
    "import numpy as np\n",
    "\n",
    "# Gauss-eliminasjon (antar at pivotelementene er forskjellig fra null i alle rader!)\n",
    "def GE(B):\n",
    "    A = np.copy(B) # vi lager en kopi av den gitte matrisa B, for å unngå å endre denne\n",
    "    m,n = np.shape(B) # m=rader, n=kolonner; det er mulig å oppgi den utvidede matrisa, eller tom matrise\n",
    "    for k in range(0,m-1):\n",
    "        for j in range(k+1,m):\n",
    "            l = A[j,k]/A[k,k]\n",
    "            for p in range(k,n):\n",
    "                A[j,p] -= l*A[k,p]\n",
    "    return A"
   ]
  },
  {
   "cell_type": "markdown",
   "id": "dfe6b9ac",
   "metadata": {},
   "source": [
    "### Eksempel\n",
    "\n",
    "La oss bruke standard Gauss-eliminasjon på følgende utvidede matrise:\n",
    "$$(A|b) = \\left[\\begin{array}{ccc|c} 1 & 4 & 1 & 1 \\\\ 2 & -1 & 2 & 1 \\\\ 1 & 3 & 2 & 1 \\end{array}\\right].$$"
   ]
  },
  {
   "cell_type": "code",
   "execution_count": 17,
   "id": "830672ae",
   "metadata": {},
   "outputs": [
    {
     "name": "stdout",
     "output_type": "stream",
     "text": [
      "\n",
      "Vi begynner med \n",
      "[[ 1.  4.  1.  1.]\n",
      " [ 2. -1. -2.  1.]\n",
      " [ 1.  3.  2.  1.]]\n",
      "og bruker Gauss-eliminering som gitt over: \n",
      "[[ 1.          4.          1.          1.        ]\n",
      " [ 0.         -9.         -4.         -1.        ]\n",
      " [ 0.          0.          1.44444444  0.11111111]]\n"
     ]
    }
   ],
   "source": [
    "A0 = np.array([[1.0,4,1,1],[2,-1,-2,1],[1,3,2,1]])\n",
    "A1 = GE(A0)\n",
    "print('\\nVi begynner med \\n{0}\\nog bruker Gauss-eliminering som gitt over: \\n{1}'.format(np.matrix(A0),np.matrix(A1)))"
   ]
  },
  {
   "cell_type": "markdown",
   "id": "6580c723",
   "metadata": {},
   "source": [
    "### Numerisk ustabilitet\n",
    "\n",
    "La oss bruke standard Gauss-eliminasjon på følgende utvidede matrise:\n",
    "$$(A|b) = \\left[\\begin{array}{cc|c} 10^{-6} & 1 & 1 \\\\ 1 & 1 & 2  \\end{array}\\right].$$"
   ]
  },
  {
   "cell_type": "code",
   "execution_count": 21,
   "id": "e2aa56c7",
   "metadata": {},
   "outputs": [
    {
     "name": "stdout",
     "output_type": "stream",
     "text": [
      "\n",
      "Vi begynner med \n",
      "[[1.e-06 1.e+00 1.e+00]\n",
      " [1.e+00 1.e+00 2.e+00]]\n",
      "og bruker Gauss-eliminasjon som gitt over: \n",
      "[[ 1.00000e-06  1.00000e+00  1.00000e+00]\n",
      " [ 0.00000e+00 -9.99999e+05 -9.99998e+05]]\n"
     ]
    }
   ],
   "source": [
    "B0 = np.array([[1e-6,1,1],[1,1,2]])\n",
    "B1 = GE(B0)\n",
    "print('\\nVi begynner med \\n{0}\\nog bruker Gauss-eliminasjon som gitt over: \\n{1}'.format(np.matrix(B0),np.matrix(B1)))"
   ]
  },
  {
   "cell_type": "markdown",
   "id": "3f2e1317",
   "metadata": {},
   "source": [
    "Ved å regne ut for hånd får man\n",
    "$$(A|b) = \\left[\\begin{array}{cc|c} 1 & 1 & 2 \\\\ 0 & 0.999999 & 0.999998  \\end{array}\\right].$$\n",
    "Her trenger vi altså en forbedret algoritme for å fange opp tilfellet hvor pivotelementet er lite, men likevel ulikt 0."
   ]
  },
  {
   "cell_type": "markdown",
   "id": "6f0aa80d",
   "metadata": {},
   "source": [
    "## Gauss-eliminasjon med delvis pivotering\n",
    "\n",
    "En standard måte er såkalt delvis pivotering. Gauss-eliminasjon med delvis pivotering sørger for at pivotelementet har den største absoluttverdien i den aktuelle kolonnen. I tilfellet vi så på, altså \n",
    "$$(A|b) = \\left[\\begin{array}{cc|c} 10^{-6} & 1 & 1 \\\\ 1 & 1 & 2  \\end{array}\\right],$$\n",
    "vil algoritmen begynne med å bytte om på rad 1 og 2 slik at vi ender opp med\n",
    "$$(A|b) = \\left[\\begin{array}{cc|c} 1 & 1 & 2 \\\\ 10^{-6} & 1 & 1  \\end{array}\\right].$$\n",
    "Ved å gange første rad med $-10^{-6}$ og legge denne raden til andre rad får vi den riktige matrisa:\n",
    "$$(A|b) = \\left[\\begin{array}{cc|c} 1 & 1 & 2 \\\\ 0 & 1-10^{-6} & 1-2\\cdot10^{-6}  \\end{array}\\right]=\\left[\\begin{array}{cc|c} 1 & 1 & 2 \\\\ 0 & 0.999999 & 0.999998  \\end{array}\\right].$$"
   ]
  },
  {
   "cell_type": "code",
   "execution_count": 18,
   "id": "97c6b224",
   "metadata": {},
   "outputs": [],
   "source": [
    "# Gauss-eliminasjon med delvis pivotering\n",
    "def GEPP(B):\n",
    "    A = np.copy(B) # vi lager en kopi av den gitte matrisa B, for å unngå å endre denne\n",
    "    m,n = np.shape(A) # m=rader, n=kolonner; det er mulig å oppgi den utvidede matrisa, eller tom matrise\n",
    "    for k in range(0,m-1):\n",
    "        a = np.abs(A[k,k])\n",
    "        pk = k\n",
    "        for j in range(k+1,m):\n",
    "            if a < np.abs(A[j,k]):\n",
    "                a = np.abs(A[j,k])\n",
    "                pk = j\n",
    "        if pk != k:\n",
    "            for p in range(k,n):\n",
    "                r = A[k,p]\n",
    "                A[k,p] = A[pk,p]\n",
    "                A[pk,p] = r\n",
    "        for j in range(k+1,m):\n",
    "            l = A[j,k]/A[k,k]\n",
    "            for p in range(k,n):\n",
    "                A[j,p] -= l*A[k,p]\n",
    "    return A\n"
   ]
  },
  {
   "cell_type": "markdown",
   "id": "9c58b369",
   "metadata": {},
   "source": [
    "### Eksempel\n",
    "\n",
    "La oss bruke Gauss-eliminasjon med delvis pivotering på følgende utvidede matrise:\n",
    "$$(A|b) = \\left[\\begin{array}{cc|c} 10^{-6} & 1 & 1 \\\\ 1 & 1 & 2  \\end{array}\\right].$$"
   ]
  },
  {
   "cell_type": "code",
   "execution_count": 24,
   "id": "157e614d",
   "metadata": {},
   "outputs": [
    {
     "name": "stdout",
     "output_type": "stream",
     "text": [
      "\n",
      "Vi begynner med \n",
      "[[1.e-06 1.e+00 1.e+00]\n",
      " [1.e+00 1.e+00 2.e+00]]\n",
      "og bruker Gauss-eliminasjon med delvis pivotering som gitt over: \n",
      "[[1.       1.       2.      ]\n",
      " [0.       0.999999 0.999998]]\n"
     ]
    }
   ],
   "source": [
    "B0 = np.array([[1e-6,1,1],[1,1,2]])\n",
    "B1 = GEPP(B0)\n",
    "print('\\nVi begynner med \\n{0}\\nog bruker Gauss-eliminasjon med delvis pivotering som gitt over: \\n{1}'.format(np.matrix(B0),np.matrix(B1)))"
   ]
  }
 ],
 "metadata": {
  "kernelspec": {
   "display_name": "Python 3",
   "language": "python",
   "name": "python3"
  },
  "language_info": {
   "codemirror_mode": {
    "name": "ipython",
    "version": 3
   },
   "file_extension": ".py",
   "mimetype": "text/x-python",
   "name": "python",
   "nbconvert_exporter": "python",
   "pygments_lexer": "ipython3",
   "version": "3.8.8"
  }
 },
 "nbformat": 4,
 "nbformat_minor": 5
}
